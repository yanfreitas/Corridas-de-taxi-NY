{
 "cells": [
  {
   "cell_type": "markdown",
   "metadata": {},
   "source": [
    "## Corridas de táxi Nova York ##"
   ]
  },
  {
   "cell_type": "code",
   "execution_count": 25,
   "metadata": {},
   "outputs": [],
   "source": [
    "import pandas as pd\n",
    "import matplotlib.pyplot as plt\n",
    "import seaborn as sns\n",
    "import numpy as np\n",
    "import folium\n",
    "from folium import plugins\n",
    "%matplotlib inline\n",
    "sns.set_style('whitegrid')"
   ]
  },
  {
   "cell_type": "markdown",
   "metadata": {},
   "source": [
    "** Importando arquivo e avaliando o tipo dos dados **"
   ]
  },
  {
   "cell_type": "code",
   "execution_count": 26,
   "metadata": {},
   "outputs": [
    {
     "ename": "KeyboardInterrupt",
     "evalue": "",
     "output_type": "error",
     "traceback": [
      "\u001b[1;31m---------------------------------------------------------------------------\u001b[0m",
      "\u001b[1;31mKeyboardInterrupt\u001b[0m                         Traceback (most recent call last)",
      "\u001b[1;32m<ipython-input-26-6200f7b611df>\u001b[0m in \u001b[0;36m<module>\u001b[1;34m\u001b[0m\n\u001b[1;32m----> 1\u001b[1;33m \u001b[0mdf\u001b[0m \u001b[1;33m=\u001b[0m \u001b[0mpd\u001b[0m\u001b[1;33m.\u001b[0m\u001b[0mread_json\u001b[0m\u001b[1;33m(\u001b[0m\u001b[1;34m'data-sample_data-nyctaxi-trips-2009-json_corrigido.json'\u001b[0m\u001b[1;33m,\u001b[0m \u001b[0mlines\u001b[0m\u001b[1;33m=\u001b[0m\u001b[1;32mTrue\u001b[0m\u001b[1;33m)\u001b[0m\u001b[1;33m\u001b[0m\u001b[1;33m\u001b[0m\u001b[0m\n\u001b[0m",
      "\u001b[1;32m~\\AppData\\Local\\Continuum\\anaconda3\\lib\\site-packages\\pandas\\io\\json\\_json.py\u001b[0m in \u001b[0;36mread_json\u001b[1;34m(path_or_buf, orient, typ, dtype, convert_axes, convert_dates, keep_default_dates, numpy, precise_float, date_unit, encoding, lines, chunksize, compression)\u001b[0m\n\u001b[0;32m    590\u001b[0m         \u001b[1;32mreturn\u001b[0m \u001b[0mjson_reader\u001b[0m\u001b[1;33m\u001b[0m\u001b[1;33m\u001b[0m\u001b[0m\n\u001b[0;32m    591\u001b[0m \u001b[1;33m\u001b[0m\u001b[0m\n\u001b[1;32m--> 592\u001b[1;33m     \u001b[0mresult\u001b[0m \u001b[1;33m=\u001b[0m \u001b[0mjson_reader\u001b[0m\u001b[1;33m.\u001b[0m\u001b[0mread\u001b[0m\u001b[1;33m(\u001b[0m\u001b[1;33m)\u001b[0m\u001b[1;33m\u001b[0m\u001b[1;33m\u001b[0m\u001b[0m\n\u001b[0m\u001b[0;32m    593\u001b[0m     \u001b[1;32mif\u001b[0m \u001b[0mshould_close\u001b[0m\u001b[1;33m:\u001b[0m\u001b[1;33m\u001b[0m\u001b[1;33m\u001b[0m\u001b[0m\n\u001b[0;32m    594\u001b[0m         \u001b[1;32mtry\u001b[0m\u001b[1;33m:\u001b[0m\u001b[1;33m\u001b[0m\u001b[1;33m\u001b[0m\u001b[0m\n",
      "\u001b[1;32m~\\AppData\\Local\\Continuum\\anaconda3\\lib\\site-packages\\pandas\\io\\json\\_json.py\u001b[0m in \u001b[0;36mread\u001b[1;34m(self)\u001b[0m\n\u001b[0;32m    713\u001b[0m         \u001b[1;32melif\u001b[0m \u001b[0mself\u001b[0m\u001b[1;33m.\u001b[0m\u001b[0mlines\u001b[0m\u001b[1;33m:\u001b[0m\u001b[1;33m\u001b[0m\u001b[1;33m\u001b[0m\u001b[0m\n\u001b[0;32m    714\u001b[0m             \u001b[0mdata\u001b[0m \u001b[1;33m=\u001b[0m \u001b[0mensure_str\u001b[0m\u001b[1;33m(\u001b[0m\u001b[0mself\u001b[0m\u001b[1;33m.\u001b[0m\u001b[0mdata\u001b[0m\u001b[1;33m)\u001b[0m\u001b[1;33m\u001b[0m\u001b[1;33m\u001b[0m\u001b[0m\n\u001b[1;32m--> 715\u001b[1;33m             \u001b[0mobj\u001b[0m \u001b[1;33m=\u001b[0m \u001b[0mself\u001b[0m\u001b[1;33m.\u001b[0m\u001b[0m_get_object_parser\u001b[0m\u001b[1;33m(\u001b[0m\u001b[0mself\u001b[0m\u001b[1;33m.\u001b[0m\u001b[0m_combine_lines\u001b[0m\u001b[1;33m(\u001b[0m\u001b[0mdata\u001b[0m\u001b[1;33m.\u001b[0m\u001b[0msplit\u001b[0m\u001b[1;33m(\u001b[0m\u001b[1;34m\"\\n\"\u001b[0m\u001b[1;33m)\u001b[0m\u001b[1;33m)\u001b[0m\u001b[1;33m)\u001b[0m\u001b[1;33m\u001b[0m\u001b[1;33m\u001b[0m\u001b[0m\n\u001b[0m\u001b[0;32m    716\u001b[0m         \u001b[1;32melse\u001b[0m\u001b[1;33m:\u001b[0m\u001b[1;33m\u001b[0m\u001b[1;33m\u001b[0m\u001b[0m\n\u001b[0;32m    717\u001b[0m             \u001b[0mobj\u001b[0m \u001b[1;33m=\u001b[0m \u001b[0mself\u001b[0m\u001b[1;33m.\u001b[0m\u001b[0m_get_object_parser\u001b[0m\u001b[1;33m(\u001b[0m\u001b[0mself\u001b[0m\u001b[1;33m.\u001b[0m\u001b[0mdata\u001b[0m\u001b[1;33m)\u001b[0m\u001b[1;33m\u001b[0m\u001b[1;33m\u001b[0m\u001b[0m\n",
      "\u001b[1;32m~\\AppData\\Local\\Continuum\\anaconda3\\lib\\site-packages\\pandas\\io\\json\\_json.py\u001b[0m in \u001b[0;36m_get_object_parser\u001b[1;34m(self, json)\u001b[0m\n\u001b[0;32m    737\u001b[0m         \u001b[0mobj\u001b[0m \u001b[1;33m=\u001b[0m \u001b[1;32mNone\u001b[0m\u001b[1;33m\u001b[0m\u001b[1;33m\u001b[0m\u001b[0m\n\u001b[0;32m    738\u001b[0m         \u001b[1;32mif\u001b[0m \u001b[0mtyp\u001b[0m \u001b[1;33m==\u001b[0m \u001b[1;34m\"frame\"\u001b[0m\u001b[1;33m:\u001b[0m\u001b[1;33m\u001b[0m\u001b[1;33m\u001b[0m\u001b[0m\n\u001b[1;32m--> 739\u001b[1;33m             \u001b[0mobj\u001b[0m \u001b[1;33m=\u001b[0m \u001b[0mFrameParser\u001b[0m\u001b[1;33m(\u001b[0m\u001b[0mjson\u001b[0m\u001b[1;33m,\u001b[0m \u001b[1;33m**\u001b[0m\u001b[0mkwargs\u001b[0m\u001b[1;33m)\u001b[0m\u001b[1;33m.\u001b[0m\u001b[0mparse\u001b[0m\u001b[1;33m(\u001b[0m\u001b[1;33m)\u001b[0m\u001b[1;33m\u001b[0m\u001b[1;33m\u001b[0m\u001b[0m\n\u001b[0m\u001b[0;32m    740\u001b[0m \u001b[1;33m\u001b[0m\u001b[0m\n\u001b[0;32m    741\u001b[0m         \u001b[1;32mif\u001b[0m \u001b[0mtyp\u001b[0m \u001b[1;33m==\u001b[0m \u001b[1;34m\"series\"\u001b[0m \u001b[1;32mor\u001b[0m \u001b[0mobj\u001b[0m \u001b[1;32mis\u001b[0m \u001b[1;32mNone\u001b[0m\u001b[1;33m:\u001b[0m\u001b[1;33m\u001b[0m\u001b[1;33m\u001b[0m\u001b[0m\n",
      "\u001b[1;32m~\\AppData\\Local\\Continuum\\anaconda3\\lib\\site-packages\\pandas\\io\\json\\_json.py\u001b[0m in \u001b[0;36mparse\u001b[1;34m(self)\u001b[0m\n\u001b[0;32m    847\u001b[0m \u001b[1;33m\u001b[0m\u001b[0m\n\u001b[0;32m    848\u001b[0m         \u001b[1;32melse\u001b[0m\u001b[1;33m:\u001b[0m\u001b[1;33m\u001b[0m\u001b[1;33m\u001b[0m\u001b[0m\n\u001b[1;32m--> 849\u001b[1;33m             \u001b[0mself\u001b[0m\u001b[1;33m.\u001b[0m\u001b[0m_parse_no_numpy\u001b[0m\u001b[1;33m(\u001b[0m\u001b[1;33m)\u001b[0m\u001b[1;33m\u001b[0m\u001b[1;33m\u001b[0m\u001b[0m\n\u001b[0m\u001b[0;32m    850\u001b[0m \u001b[1;33m\u001b[0m\u001b[0m\n\u001b[0;32m    851\u001b[0m         \u001b[1;32mif\u001b[0m \u001b[0mself\u001b[0m\u001b[1;33m.\u001b[0m\u001b[0mobj\u001b[0m \u001b[1;32mis\u001b[0m \u001b[1;32mNone\u001b[0m\u001b[1;33m:\u001b[0m\u001b[1;33m\u001b[0m\u001b[1;33m\u001b[0m\u001b[0m\n",
      "\u001b[1;32m~\\AppData\\Local\\Continuum\\anaconda3\\lib\\site-packages\\pandas\\io\\json\\_json.py\u001b[0m in \u001b[0;36m_parse_no_numpy\u001b[1;34m(self)\u001b[0m\n\u001b[0;32m   1091\u001b[0m         \u001b[1;32mif\u001b[0m \u001b[0morient\u001b[0m \u001b[1;33m==\u001b[0m \u001b[1;34m\"columns\"\u001b[0m\u001b[1;33m:\u001b[0m\u001b[1;33m\u001b[0m\u001b[1;33m\u001b[0m\u001b[0m\n\u001b[0;32m   1092\u001b[0m             self.obj = DataFrame(\n\u001b[1;32m-> 1093\u001b[1;33m                 \u001b[0mloads\u001b[0m\u001b[1;33m(\u001b[0m\u001b[0mjson\u001b[0m\u001b[1;33m,\u001b[0m \u001b[0mprecise_float\u001b[0m\u001b[1;33m=\u001b[0m\u001b[0mself\u001b[0m\u001b[1;33m.\u001b[0m\u001b[0mprecise_float\u001b[0m\u001b[1;33m)\u001b[0m\u001b[1;33m,\u001b[0m \u001b[0mdtype\u001b[0m\u001b[1;33m=\u001b[0m\u001b[1;32mNone\u001b[0m\u001b[1;33m\u001b[0m\u001b[1;33m\u001b[0m\u001b[0m\n\u001b[0m\u001b[0;32m   1094\u001b[0m             )\n\u001b[0;32m   1095\u001b[0m         \u001b[1;32melif\u001b[0m \u001b[0morient\u001b[0m \u001b[1;33m==\u001b[0m \u001b[1;34m\"split\"\u001b[0m\u001b[1;33m:\u001b[0m\u001b[1;33m\u001b[0m\u001b[1;33m\u001b[0m\u001b[0m\n",
      "\u001b[1;32m~\\AppData\\Local\\Continuum\\anaconda3\\lib\\site-packages\\pandas\\core\\frame.py\u001b[0m in \u001b[0;36m__init__\u001b[1;34m(self, data, index, columns, dtype, copy)\u001b[0m\n\u001b[0;32m    448\u001b[0m                     \u001b[1;32mif\u001b[0m \u001b[0mis_named_tuple\u001b[0m\u001b[1;33m(\u001b[0m\u001b[0mdata\u001b[0m\u001b[1;33m[\u001b[0m\u001b[1;36m0\u001b[0m\u001b[1;33m]\u001b[0m\u001b[1;33m)\u001b[0m \u001b[1;32mand\u001b[0m \u001b[0mcolumns\u001b[0m \u001b[1;32mis\u001b[0m \u001b[1;32mNone\u001b[0m\u001b[1;33m:\u001b[0m\u001b[1;33m\u001b[0m\u001b[1;33m\u001b[0m\u001b[0m\n\u001b[0;32m    449\u001b[0m                         \u001b[0mcolumns\u001b[0m \u001b[1;33m=\u001b[0m \u001b[0mdata\u001b[0m\u001b[1;33m[\u001b[0m\u001b[1;36m0\u001b[0m\u001b[1;33m]\u001b[0m\u001b[1;33m.\u001b[0m\u001b[0m_fields\u001b[0m\u001b[1;33m\u001b[0m\u001b[1;33m\u001b[0m\u001b[0m\n\u001b[1;32m--> 450\u001b[1;33m                     \u001b[0marrays\u001b[0m\u001b[1;33m,\u001b[0m \u001b[0mcolumns\u001b[0m \u001b[1;33m=\u001b[0m \u001b[0mto_arrays\u001b[0m\u001b[1;33m(\u001b[0m\u001b[0mdata\u001b[0m\u001b[1;33m,\u001b[0m \u001b[0mcolumns\u001b[0m\u001b[1;33m,\u001b[0m \u001b[0mdtype\u001b[0m\u001b[1;33m=\u001b[0m\u001b[0mdtype\u001b[0m\u001b[1;33m)\u001b[0m\u001b[1;33m\u001b[0m\u001b[1;33m\u001b[0m\u001b[0m\n\u001b[0m\u001b[0;32m    451\u001b[0m                     \u001b[0mcolumns\u001b[0m \u001b[1;33m=\u001b[0m \u001b[0mensure_index\u001b[0m\u001b[1;33m(\u001b[0m\u001b[0mcolumns\u001b[0m\u001b[1;33m)\u001b[0m\u001b[1;33m\u001b[0m\u001b[1;33m\u001b[0m\u001b[0m\n\u001b[0;32m    452\u001b[0m \u001b[1;33m\u001b[0m\u001b[0m\n",
      "\u001b[1;32m~\\AppData\\Local\\Continuum\\anaconda3\\lib\\site-packages\\pandas\\core\\internals\\construction.py\u001b[0m in \u001b[0;36mto_arrays\u001b[1;34m(data, columns, coerce_float, dtype)\u001b[0m\n\u001b[0;32m    442\u001b[0m     \u001b[0mReturn\u001b[0m \u001b[0mlist\u001b[0m \u001b[0mof\u001b[0m \u001b[0marrays\u001b[0m\u001b[1;33m,\u001b[0m \u001b[0mcolumns\u001b[0m\u001b[1;33m.\u001b[0m\u001b[1;33m\u001b[0m\u001b[1;33m\u001b[0m\u001b[0m\n\u001b[0;32m    443\u001b[0m     \"\"\"\n\u001b[1;32m--> 444\u001b[1;33m     \u001b[1;32mif\u001b[0m \u001b[0misinstance\u001b[0m\u001b[1;33m(\u001b[0m\u001b[0mdata\u001b[0m\u001b[1;33m,\u001b[0m \u001b[0mABCDataFrame\u001b[0m\u001b[1;33m)\u001b[0m\u001b[1;33m:\u001b[0m\u001b[1;33m\u001b[0m\u001b[1;33m\u001b[0m\u001b[0m\n\u001b[0m\u001b[0;32m    445\u001b[0m         \u001b[1;32mif\u001b[0m \u001b[0mcolumns\u001b[0m \u001b[1;32mis\u001b[0m \u001b[1;32mnot\u001b[0m \u001b[1;32mNone\u001b[0m\u001b[1;33m:\u001b[0m\u001b[1;33m\u001b[0m\u001b[1;33m\u001b[0m\u001b[0m\n\u001b[0;32m    446\u001b[0m             arrays = [\n",
      "\u001b[1;31mKeyboardInterrupt\u001b[0m: "
     ]
    }
   ],
   "source": [
    "df = pd.read_json('data-sample_data-nyctaxi-trips-2009-json_corrigido.json', lines=True)"
   ]
  },
  {
   "cell_type": "code",
   "execution_count": null,
   "metadata": {},
   "outputs": [],
   "source": [
    "df.describe()"
   ]
  },
  {
   "cell_type": "code",
   "execution_count": null,
   "metadata": {},
   "outputs": [],
   "source": [
    "df.head()"
   ]
  },
  {
   "cell_type": "markdown",
   "metadata": {},
   "source": [
    "** Verificando e limpando dados nulos **"
   ]
  },
  {
   "cell_type": "code",
   "execution_count": null,
   "metadata": {},
   "outputs": [],
   "source": [
    "df.isnull().sum()"
   ]
  },
  {
   "cell_type": "code",
   "execution_count": null,
   "metadata": {},
   "outputs": [],
   "source": [
    "df.dropna(axis=1, inplace=True)"
   ]
  },
  {
   "cell_type": "code",
   "execution_count": null,
   "metadata": {},
   "outputs": [],
   "source": [
    "df = df[df['passenger_count'] > 0]"
   ]
  },
  {
   "cell_type": "markdown",
   "metadata": {},
   "source": [
    "### Qual o número total de viagens por passageiro no carro? ###"
   ]
  },
  {
   "cell_type": "code",
   "execution_count": null,
   "metadata": {},
   "outputs": [],
   "source": [
    "df['passenger_count'].value_counts()"
   ]
  },
  {
   "cell_type": "code",
   "execution_count": null,
   "metadata": {},
   "outputs": [],
   "source": [
    "plt.figure(figsize=(12,7))\n",
    "sns.countplot(x='passenger_count', data=df, palette='magma')\n",
    "plt.xlabel('Número de passageiros', {'fontsize': 15})\n",
    "plt.ylabel('Número de viagens', {'fontsize': 15})\n",
    "plt.title('Total de viagens por quantidade de passageiros', fontdict={'fontsize': 25})\n",
    "plt.show()"
   ]
  },
  {
   "cell_type": "markdown",
   "metadata": {},
   "source": [
    "### Qual a média de gorjeta recebida com base no número de passageiros no veículo? ###"
   ]
  },
  {
   "cell_type": "code",
   "execution_count": null,
   "metadata": {},
   "outputs": [],
   "source": [
    "df.groupby('passenger_count')['tip_amount'].mean()"
   ]
  },
  {
   "cell_type": "code",
   "execution_count": null,
   "metadata": {},
   "outputs": [],
   "source": [
    "plt.figure(figsize=(12,7))\n",
    "plt.style.use('ggplot')\n",
    "df.groupby('passenger_count')['tip_amount'].mean().plot(lw=3)\n",
    "plt.ylabel('Média de gorjeta em $', fontdict={'fontsize': 15})\n",
    "plt.xlabel('Número de passageiros', {'fontsize': 15})\n",
    "plt.title('Média de gorjeta por número de passageiros', fontdict={'fontsize': 30})\n",
    "plt.show()"
   ]
  },
  {
   "cell_type": "markdown",
   "metadata": {},
   "source": [
    "### Qual a média de distância percorrida considerando todas as corridas ? ###"
   ]
  },
  {
   "cell_type": "code",
   "execution_count": null,
   "metadata": {},
   "outputs": [],
   "source": [
    "df['trip_distance'].mean()"
   ]
  },
  {
   "cell_type": "markdown",
   "metadata": {},
   "source": [
    "### Qual a média de distância percorrida com base na quantidade de passageiros no veículo ?###"
   ]
  },
  {
   "cell_type": "code",
   "execution_count": null,
   "metadata": {},
   "outputs": [],
   "source": [
    "df.groupby('passenger_count')['trip_distance'].mean()"
   ]
  },
  {
   "cell_type": "code",
   "execution_count": null,
   "metadata": {},
   "outputs": [],
   "source": [
    "plt.figure(figsize=(12,7))\n",
    "plt.style.use('ggplot')\n",
    "df.groupby('passenger_count')['trip_distance'].mean().plot(color='green', lw=3, ls='--')\n",
    "plt.ylabel('Média de distância percorrida', fontdict={'fontsize': 15})\n",
    "plt.xlabel('Número de passageiros', {'fontsize': 15})\n",
    "plt.title('Média de distância (milhas) por número de passageiros', fontdict={'fontsize': 25})\n",
    "plt.show()"
   ]
  },
  {
   "cell_type": "markdown",
   "metadata": {},
   "source": [
    "** Adicionando nome das empresas ao dataframe **"
   ]
  },
  {
   "cell_type": "code",
   "execution_count": null,
   "metadata": {},
   "outputs": [],
   "source": [
    "vendors = pd.read_csv('data-vendor_lookup-csv.csv')"
   ]
  },
  {
   "cell_type": "code",
   "execution_count": null,
   "metadata": {},
   "outputs": [],
   "source": [
    "vendors"
   ]
  },
  {
   "cell_type": "code",
   "execution_count": null,
   "metadata": {},
   "outputs": [],
   "source": [
    "dict_id_name = {vendors['vendor_id'][c]:vendors['name'][c] for c in range(len(vendors.vendor_id))}\n",
    "dict_id_name"
   ]
  },
  {
   "cell_type": "code",
   "execution_count": null,
   "metadata": {},
   "outputs": [],
   "source": [
    "df['Company Name'] = df['vendor_id'].map(dict_id_name)"
   ]
  },
  {
   "cell_type": "code",
   "execution_count": null,
   "metadata": {},
   "outputs": [],
   "source": [
    "df['Company Name'].head()"
   ]
  },
  {
   "cell_type": "markdown",
   "metadata": {},
   "source": [
    "### Quais as maiores empresas com base no total de dinheiro arrecadado ? ###"
   ]
  },
  {
   "cell_type": "code",
   "execution_count": null,
   "metadata": {},
   "outputs": [],
   "source": [
    "df.groupby('Company Name')['total_amount'].sum()"
   ]
  },
  {
   "cell_type": "code",
   "execution_count": null,
   "metadata": {},
   "outputs": [],
   "source": [
    "plt.figure(figsize=(12,7))\n",
    "plt.style.use('ggplot')\n",
    "sns.barplot(x='Company Name', y='total_amount', palette='bright', data=df, estimator=np.sum)\n",
    "plt.ylabel('Total em dólar $', fontdict={'fontsize': 15})\n",
    "plt.xlabel('Nome da empresa', {'fontsize': 15})\n",
    "plt.title('Total em dólar arrecadado por empresa', fontdict={'fontsize': 30})\n",
    "plt.show()"
   ]
  },
  {
   "cell_type": "markdown",
   "metadata": {},
   "source": [
    "** Tipos de pagamento **"
   ]
  },
  {
   "cell_type": "code",
   "execution_count": null,
   "metadata": {},
   "outputs": [],
   "source": [
    "df['payment_type'].unique()"
   ]
  },
  {
   "cell_type": "code",
   "execution_count": null,
   "metadata": {},
   "outputs": [],
   "source": [
    "df['payment_type'] = df['payment_type'].apply(lambda value: value.lower())"
   ]
  },
  {
   "cell_type": "markdown",
   "metadata": {},
   "source": [
    "### Qual o total de dinheiro arrecadado com base no tipo de pagemento? ##"
   ]
  },
  {
   "cell_type": "code",
   "execution_count": null,
   "metadata": {},
   "outputs": [],
   "source": [
    "df.groupby('payment_type')['total_amount'].sum()"
   ]
  },
  {
   "cell_type": "code",
   "execution_count": null,
   "metadata": {},
   "outputs": [],
   "source": [
    "sns.catplot(x='payment_type', y='total_amount', data=df, estimator=np.sum, height=7, aspect=1.4, kind='point', color='purple')\n",
    "plt.xlabel('Tipo de pagamento', fontdict={'fontsize': 15})\n",
    "plt.ylabel('Total em dólar $', fontdict={'fontsize': 15})\n",
    "plt.title('Total em dólar por tipo de pagamento', fontdict={'fontsize': 30})\n",
    "plt.show()"
   ]
  },
  {
   "cell_type": "markdown",
   "metadata": {},
   "source": [
    "** Adicionando colunas de tempo ao dataframe **"
   ]
  },
  {
   "cell_type": "code",
   "execution_count": null,
   "metadata": {},
   "outputs": [],
   "source": [
    "df['pickup_datetime'] = pd.to_datetime(df['pickup_datetime'])\n",
    "df['dropoff_datetime'] = pd.to_datetime(df['dropoff_datetime'])"
   ]
  },
  {
   "cell_type": "code",
   "execution_count": null,
   "metadata": {},
   "outputs": [],
   "source": [
    "months = {1:'January', 2:'February', 3:'March', 4:'April', 5:'May', 6:'June', 7:'July', 8:'August', 9:'September', 10:'October',\n",
    "         11:'November', 12:'December'}"
   ]
  },
  {
   "cell_type": "code",
   "execution_count": null,
   "metadata": {},
   "outputs": [],
   "source": [
    "df['Day'] = df['pickup_datetime'].apply(lambda time: time.day)\n",
    "df['Month'] = df['pickup_datetime'].apply(lambda time: time.month)\n",
    "df['Month'] = df['Month'].map(months)"
   ]
  },
  {
   "cell_type": "code",
   "execution_count": null,
   "metadata": {},
   "outputs": [],
   "source": [
    "df['Hour Pickup'] = df['pickup_datetime'].apply(lambda time: time.time)\n",
    "df['Hour Dropoff'] = df['dropoff_datetime'].apply(lambda time: time.time)"
   ]
  },
  {
   "cell_type": "code",
   "execution_count": null,
   "metadata": {},
   "outputs": [],
   "source": [
    "df['Hour'] = df['Hour Pickup'].apply(lambda time: time.hour)"
   ]
  },
  {
   "cell_type": "code",
   "execution_count": null,
   "metadata": {},
   "outputs": [],
   "source": [
    "df.head()"
   ]
  },
  {
   "cell_type": "markdown",
   "metadata": {},
   "source": [
    "### Mapa de calor - quantidade total de passageiros - dia x hora ###"
   ]
  },
  {
   "cell_type": "code",
   "execution_count": null,
   "metadata": {},
   "outputs": [],
   "source": [
    "day_month = df.pivot_table(values='passenger_count', index='Hour', columns='Day', aggfunc=np.sum, fill_value=0)\n",
    "day_month"
   ]
  },
  {
   "cell_type": "code",
   "execution_count": null,
   "metadata": {},
   "outputs": [],
   "source": [
    "plt.figure(figsize=(14,9))\n",
    "sns.heatmap(day_month,cmap='coolwarm',linecolor='white',linewidths=1)\n",
    "plt.ylabel('Horas', fontdict={'fontsize': 15})\n",
    "plt.xlabel('Dias do mês', {'fontsize': 15})\n",
    "plt.title('Total de passageiros', fontdict={'fontsize': 25})\n",
    "plt.show()"
   ]
  },
  {
   "cell_type": "markdown",
   "metadata": {},
   "source": [
    "### Correlação entre as colunas do dataframe ###"
   ]
  },
  {
   "cell_type": "code",
   "execution_count": null,
   "metadata": {},
   "outputs": [],
   "source": [
    "df.corr()"
   ]
  },
  {
   "cell_type": "code",
   "execution_count": null,
   "metadata": {},
   "outputs": [],
   "source": [
    "plt.figure(figsize=(12,7))\n",
    "sns.heatmap(df.corr(),cmap='coolwarm',annot=True)\n",
    "plt.title('Correlação entre dados', fontdict={'fontsize': 20}, weight='light')\n",
    "plt.tight_layout()\n",
    "plt.show()"
   ]
  },
  {
   "cell_type": "markdown",
   "metadata": {},
   "source": [
    "### Mapa de calor - destino inicial ###"
   ]
  },
  {
   "cell_type": "code",
   "execution_count": 27,
   "metadata": {},
   "outputs": [
    {
     "data": {
      "text/html": [
       "<div style=\"width:100%;\"><div style=\"position:relative;width:100%;height:0;padding-bottom:60%;\"><iframe src=\"data:text/html;charset=utf-8;base64,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\" style=\"position:absolute;width:100%;height:100%;left:0;top:0;border:none !important;\" allowfullscreen webkitallowfullscreen mozallowfullscreen></iframe></div></div>"
      ],
      "text/plain": [
       "<folium.folium.Map at 0x1d07e603d48>"
      ]
     },
     "execution_count": 27,
     "metadata": {},
     "output_type": "execute_result"
    }
   ],
   "source": [
    "coordenadas = []\n",
    "lat = df['pickup_latitude'][::2500].values\n",
    "long = df['pickup_longitude'][::2500].values\n",
    "\n",
    "for la,lo in zip(lat,long):\n",
    "    coordenadas.append([la,lo])\n",
    "\n",
    "mapa = folium.Map(location=[40.6643,-73.9385],tiles='Stamen Toner',zoom_start=10)\n",
    "mapa.add_child(plugins.HeatMap(coordenadas))\n",
    "mapa"
   ]
  },
  {
   "cell_type": "markdown",
   "metadata": {},
   "source": [
    "### Mapa de calor - destino final ###"
   ]
  },
  {
   "cell_type": "code",
   "execution_count": 28,
   "metadata": {},
   "outputs": [
    {
     "data": {
      "text/html": [
       "<div style=\"width:100%;\"><div style=\"position:relative;width:100%;height:0;padding-bottom:60%;\"><iframe src=\"data:text/html;charset=utf-8;base64,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\" style=\"position:absolute;width:100%;height:100%;left:0;top:0;border:none !important;\" allowfullscreen webkitallowfullscreen mozallowfullscreen></iframe></div></div>"
      ],
      "text/plain": [
       "<folium.folium.Map at 0x1d0a177c408>"
      ]
     },
     "execution_count": 28,
     "metadata": {},
     "output_type": "execute_result"
    }
   ],
   "source": [
    "coordenadas1 = []\n",
    "lat = df['dropoff_latitude'][::2500].values\n",
    "long = df['dropoff_longitude'][::2500].values\n",
    "\n",
    "for la,lo in zip(lat,long):\n",
    "    coordenadas1.append([la,lo])\n",
    "\n",
    "mapa = folium.Map(location=[40.6643,-73.9385],tiles='Stamen Toner',zoom_start=10)\n",
    "mapa.add_child(plugins.HeatMap(coordenadas1))\n",
    "mapa"
   ]
  },
  {
   "cell_type": "code",
   "execution_count": null,
   "metadata": {},
   "outputs": [],
   "source": []
  }
 ],
 "metadata": {
  "kernelspec": {
   "display_name": "Python 3",
   "language": "python",
   "name": "python3"
  },
  "language_info": {
   "codemirror_mode": {
    "name": "ipython",
    "version": 3
   },
   "file_extension": ".py",
   "mimetype": "text/x-python",
   "name": "python",
   "nbconvert_exporter": "python",
   "pygments_lexer": "ipython3",
   "version": "3.7.4"
  }
 },
 "nbformat": 4,
 "nbformat_minor": 2
}
